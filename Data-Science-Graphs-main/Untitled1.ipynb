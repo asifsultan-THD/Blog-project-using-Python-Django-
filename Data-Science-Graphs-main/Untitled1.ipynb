{
 "cells": [
  {
   "cell_type": "code",
   "execution_count": 2,
   "metadata": {},
   "outputs": [
    {
     "data": {
      "text/html": [
       "        <script type=\"text/javascript\">\n",
       "        window.PlotlyConfig = {MathJaxConfig: 'local'};\n",
       "        if (window.MathJax) {MathJax.Hub.Config({SVG: {font: \"STIX-Web\"}});}\n",
       "        if (typeof require !== 'undefined') {\n",
       "        require.undef(\"plotly\");\n",
       "        requirejs.config({\n",
       "            paths: {\n",
       "                'plotly': ['https://cdn.plot.ly/plotly-latest.min']\n",
       "            }\n",
       "        });\n",
       "        require(['plotly'], function(Plotly) {\n",
       "            window._Plotly = Plotly;\n",
       "        });\n",
       "        }\n",
       "        </script>\n",
       "        "
      ]
     },
     "metadata": {},
     "output_type": "display_data"
    },
    {
     "data": {
      "text/html": [
       "        <script type=\"text/javascript\">\n",
       "        window.PlotlyConfig = {MathJaxConfig: 'local'};\n",
       "        if (window.MathJax) {MathJax.Hub.Config({SVG: {font: \"STIX-Web\"}});}\n",
       "        if (typeof require !== 'undefined') {\n",
       "        require.undef(\"plotly\");\n",
       "        requirejs.config({\n",
       "            paths: {\n",
       "                'plotly': ['https://cdn.plot.ly/plotly-latest.min']\n",
       "            }\n",
       "        });\n",
       "        require(['plotly'], function(Plotly) {\n",
       "            window._Plotly = Plotly;\n",
       "        });\n",
       "        }\n",
       "        </script>\n",
       "        "
      ]
     },
     "metadata": {},
     "output_type": "display_data"
    }
   ],
   "source": [
    "import numpy as np\n",
    "import pandas as pd\n",
    "import chart_studio.plotly as pl\n",
    "import plotly.offline as po\n",
    "import cufflinks as cf\n",
    "po.init_notebook_mode(connected = True)\n",
    "cf.go_offline()"
   ]
  },
  {
   "cell_type": "code",
   "execution_count": 3,
   "metadata": {},
   "outputs": [],
   "source": [
    "def createdata(data):\n",
    "    if(data == 1):\n",
    "        x = np.random.rand(100,5)\n",
    "        df1 = pd.DataFrame(x,columns=['A','B','C','D','E'])\n",
    "    elif(data == 2):\n",
    "        x = [0,0,0,0,0]\n",
    "        r1= [0,0,0,0,0]\n",
    "        r2= [0,0,0,0,0]\n",
    "        r3= [0,0,0,0,0]\n",
    "        r4= [0,0,0,0,0]\n",
    "        print('Enter the values for columns')\n",
    "        i=0\n",
    "        for i in [0,1,2,3,4]:\n",
    "            x[i] = input()\n",
    "            i = i + 1\n",
    "        print('Enter the values for first row')\n",
    "        i=0\n",
    "        for i in [0,1,2,3,4]:\n",
    "            r1[i] = int(input())\n",
    "            i = i + 1\n",
    "        print('Enter the values for second row')\n",
    "        i=0\n",
    "        for i in [0,1,2,3,4]:\n",
    "            r2[i] = int(input())\n",
    "            i = i + 1\n",
    "        print('Enter the values for third row')\n",
    "        i=0\n",
    "        for i in [0,1,2,3,4]:\n",
    "            r3[i] = int(input())\n",
    "            i = i + 1\n",
    "        print('Enter the values for fourth row')\n",
    "        i=0\n",
    "        for i in [0,1,2,3,4]:\n",
    "            r4[i] = int(input())\n",
    "            i = i + 1\n",
    "        df1 = pd.DataFrame([r1,r2,r3,r4] , columns = x)\n",
    "    elif(data == 3):\n",
    "        file = input('Enter the file name')\n",
    "        x = pd.read_csv(file)\n",
    "        df1 = pd.DataFrame(x)\n",
    "    else:\n",
    "        print('DataFrame creation failed please enter in between 1 to 3 and try again')\n",
    "    return df1"
   ]
  },
  {
   "cell_type": "code",
   "execution_count": 4,
   "metadata": {},
   "outputs": [],
   "source": [
    "def plotter(plot):\n",
    "    if(plot == 1):\n",
    "        finalplot = df1.iplot(kind='scatter')\n",
    "    elif(plot == 2):\n",
    "        finalplot = df1.iplot(kind='scatter',mode='markers' ,symbol='x',colorscale='paired')\n",
    "    elif(plot == 3):\n",
    "        finalplot = df1.iplot(kind='bar')\n",
    "    elif(plot == 4):\n",
    "        finalplot = df1.iplot(kind='hist')\n",
    "    elif(plot == 5):\n",
    "        finalplot = df1.iplot(kind='box')\n",
    "    elif(plot == 6):\n",
    "        finalplot = df1.iplot(kind='surface')\n",
    "    else:\n",
    "        finalplot = print('Select only between 1 to 7')\n",
    "    return finalplot"
   ]
  },
  {
   "cell_type": "code",
   "execution_count": 5,
   "metadata": {},
   "outputs": [],
   "source": [
    "def plotter2(plot):\n",
    "    col = input('Enter the number of columns you want to plot by selecting only 1 , 2 or 3')\n",
    "    col = int(col)\n",
    "    if(col==1):\n",
    "        colm = input('Enter the column you want to plot by selecting any column from dataframe head')\n",
    "        if(plot==1):\n",
    "            finalplot = df1[colm].iplot(kind='scatter')\n",
    "        elif(plot==2):\n",
    "            finalplot = df1[colm].iplot(kind='scatter' , mode='markers' , symbol='x' ,colorscale='paired')\n",
    "        elif(plot==3):\n",
    "            finalplot = df1[colm].iplot(kind='bar')\n",
    "        elif(plot==4):\n",
    "            finalplot = df1[colm].iplot(kind='hist')\n",
    "        elif(plot==5):\n",
    "            finalplot = df1[colm].iplot(kind='box')\n",
    "        elif(plot==6 or plot==7):\n",
    "            finalplot = print('Bubble plot and surface plot require more than one column arguments')\n",
    "        else:\n",
    "            finalplot = print('Select only between 1 to 7')\n",
    "    elif(col==2):\n",
    "        print('Enter the columns you want to plot by selecting from dataframe head')\n",
    "        x = input('First column')\n",
    "        y = input('Second column')\n",
    "        if(plot==1):\n",
    "            finalplot = df1[[x,y]].iplot(kind='scatter')\n",
    "        elif(plot==2):\n",
    "            finalplot = df1[[x,y]].iplot(kind='scatter' , mode='markers' , symbol='x' ,colorscale='paired')\n",
    "        elif(plot==3):\n",
    "            finalplot = df1[[x,y]].iplot(kind='bar')\n",
    "        elif(plot==4):\n",
    "            finalplot = df1[[x,y]].iplot(kind='hist')\n",
    "        elif(plot==5):\n",
    "            finalplot = df1[[x,y]].iplot(kind='box')\n",
    "        elif(plot==6):\n",
    "            finalplot = df1[[x,y]].iplot(kind='surface')\n",
    "        elif(plot==7):\n",
    "            size = input('Please enter the size column for bubble plot')\n",
    "            finalplot = df1.iplot(kind='bubble' , x=x,y=y,size=size)\n",
    "        else:\n",
    "            finalplot = print('Select only between 1 to 7')\n",
    "    elif(col==3):\n",
    "        print('Enter the columns you want to plot')\n",
    "        x=input('First column')\n",
    "        y=input('Second column')\n",
    "        z=input('Third column')\n",
    "        if(plot==1):\n",
    "            finalplot = df1[[x,y,z]].iplot(kind='scatter')\n",
    "        elif(plot==2):\n",
    "            finalplot = df1[[x,y,z]].iplot(kind='scatter' , mode='markers' , symbol='x' ,colorscale='paired')\n",
    "        elif(plot==3):\n",
    "            finalplot = df1[[x,y,z]].iplot(kind='bar')\n",
    "        elif(plot==4):\n",
    "            finalplot = df1[[x,y,z]].iplot(kind='hist')\n",
    "        elif(plot==5):\n",
    "            finalplot = df1[[x,y,z]].iplot(kind='box')\n",
    "        elif(plot==6):\n",
    "            finalplot = df1[[x,y,z]].iplot(kind='surface')\n",
    "        elif(plot==7):\n",
    "            size = input('Please enter the size column for bubble plot')\n",
    "            finalplot = df1.iplot(kind='bubble' , x=x,y=y,z=z,size=size )\n",
    "        else:\n",
    "            finalplot = print('Select only between 1 to 7')\n",
    "    else:\n",
    "        finalplot = print('Please enter only 1 , 2 or 3')\n",
    "    return finalplot"
   ]
  },
  {
   "cell_type": "code",
   "execution_count": 5,
   "metadata": {},
   "outputs": [],
   "source": [
    "def plotter2(plot):\n",
    "    col = input('Enter the number of columns you want to plot by selecting only 1 , 2 or 3')\n",
    "    col = int(col)\n",
    "    if(col==1):\n",
    "        colm = input('Enter the column you want to plot by selecting any column from dataframe head')\n",
    "        if(plot==1):\n",
    "            finalplot = df1[colm].iplot(kind='scatter')\n",
    "        elif(plot==2):\n",
    "            finalplot = df1[colm].iplot(kind='scatter' , mode='markers' , symbol='x' ,colorscale='paired')\n",
    "        elif(plot==3):\n",
    "            finalplot = df1[colm].iplot(kind='bar')\n",
    "        elif(plot==4):\n",
    "            finalplot = df1[colm].iplot(kind='hist')\n",
    "        elif(plot==5):\n",
    "            finalplot = df1[colm].iplot(kind='box')\n",
    "        elif(plot==6 or plot==7):\n",
    "            finalplot = print('Bubble plot and surface plot require more than one column arguments')\n",
    "        else:\n",
    "            finalplot = print('Select only between 1 to 7')\n",
    "    elif(col==2):\n",
    "        print('Enter the columns you want to plot by selecting from dataframe head')\n",
    "        x = input('First column')\n",
    "        y = input('Second column')\n",
    "        if(plot==1):\n",
    "            finalplot = df1[[x,y]].iplot(kind='scatter')\n",
    "        elif(plot==2):\n",
    "            finalplot = df1[[x,y]].iplot(kind='scatter' , mode='markers' , symbol='x' ,colorscale='paired')\n",
    "        elif(plot==3):\n",
    "            finalplot = df1[[x,y]].iplot(kind='bar')\n",
    "        elif(plot==4):\n",
    "            finalplot = df1[[x,y]].iplot(kind='hist')\n",
    "        elif(plot==5):\n",
    "            finalplot = df1[[x,y]].iplot(kind='box')\n",
    "        elif(plot==6):\n",
    "            finalplot = df1[[x,y]].iplot(kind='surface')\n",
    "        elif(plot==7):\n",
    "            size = input('Please enter the size column for bubble plot')\n",
    "            finalplot = df1.iplot(kind='bubble' , x=x,y=y,size=size)\n",
    "        else:\n",
    "            finalplot = print('Select only between 1 to 7')\n",
    "    elif(col==3):\n",
    "        print('Enter the columns you want to plot')\n",
    "        x=input('First column')\n",
    "        y=input('Second column')\n",
    "        z=input('Third column')\n",
    "        if(plot==1):\n",
    "            finalplot = df1[[x,y,z]].iplot(kind='scatter')\n",
    "        elif(plot==2):\n",
    "            finalplot = df1[[x,y,z]].iplot(kind='scatter' , mode='markers' , symbol='x' ,colorscale='paired')\n",
    "        elif(plot==3):\n",
    "            finalplot = df1[[x,y,z]].iplot(kind='bar')\n",
    "        elif(plot==4):\n",
    "            finalplot = df1[[x,y,z]].iplot(kind='hist')\n",
    "        elif(plot==5):\n",
    "            finalplot = df1[[x,y,z]].iplot(kind='box')\n",
    "        elif(plot==6):\n",
    "            finalplot = df1[[x,y,z]].iplot(kind='surface')\n",
    "        elif(plot==7):\n",
    "            size = input('Please enter the size column for bubble plot')\n",
    "            finalplot = df1.iplot(kind='bubble' , x=x,y=y,z=z,size=size )\n",
    "        else:\n",
    "            finalplot = print('Select only between 1 to 7')\n",
    "    else:\n",
    "        finalplot = print('Please enter only 1 , 2 or 3')\n",
    "    return finalplot"
   ]
  },
  {
   "cell_type": "code",
   "execution_count": 6,
   "metadata": {},
   "outputs": [],
   "source": [
    "def main(cat):\n",
    "    if(cat == 1):\n",
    "        print('Select the type of plot you need to plot by writing 1 to 6')\n",
    "        print('1.Line plot')\n",
    "        print('2.Scatter plot')\n",
    "        print('3.Bar plot')\n",
    "        print('4.Histogram')\n",
    "        print('5.Box plot')\n",
    "        print('6.Surface plot')\n",
    "        plot = int(input())\n",
    "        output = plotter(plot)\n",
    "    elif(cat == 2):\n",
    "        print('Select the type of plot you need to plot by writing 1 to 7')\n",
    "        print('1.Line plot')\n",
    "        print('2.Scatter plot')\n",
    "        print('3.Bar plot')\n",
    "        print('4.Histogram')\n",
    "        print('5.Box plot')\n",
    "        print('6.Surface plot')\n",
    "        print('7.Bubble plot')\n",
    "        plot = int(input())\n",
    "        output = plotter2(plot)\n",
    "    else:\n",
    "        print('Please enter 1 or 2 and try again')   "
   ]
  },
  {
   "cell_type": "code",
   "execution_count": 11,
   "metadata": {},
   "outputs": [
    {
     "name": "stdout",
     "output_type": "stream",
     "text": [
      "Select the type of data you need to plot(By writing 1,2 or 3)\n",
      "1.Random data with 100 rows and 5 columns\n",
      "2.Customize dataframe with 5 columns and. 4 rows\n",
      "3.Upload csv/json/txt file\n",
      "1\n"
     ]
    }
   ],
   "source": [
    "print('Select the type of data you need to plot(By writing 1,2 or 3)')\n",
    "print('1.Random data with 100 rows and 5 columns')\n",
    "print('2.Customize dataframe with 5 columns and. 4 rows')\n",
    "print('3.Upload csv/json/txt file')\n",
    "data = int(input())\n",
    "df1 = createdata(data)"
   ]
  },
  {
   "cell_type": "code",
   "execution_count": 8,
   "metadata": {},
   "outputs": [
    {
     "name": "stdout",
     "output_type": "stream",
     "text": [
      "Your DataFrame head is given below check the columns to plot using cufflinks\n"
     ]
    },
    {
     "data": {
      "text/html": [
       "<div>\n",
       "<style scoped>\n",
       "    .dataframe tbody tr th:only-of-type {\n",
       "        vertical-align: middle;\n",
       "    }\n",
       "\n",
       "    .dataframe tbody tr th {\n",
       "        vertical-align: top;\n",
       "    }\n",
       "\n",
       "    .dataframe thead th {\n",
       "        text-align: right;\n",
       "    }\n",
       "</style>\n",
       "<table border=\"1\" class=\"dataframe\">\n",
       "  <thead>\n",
       "    <tr style=\"text-align: right;\">\n",
       "      <th></th>\n",
       "      <th>A</th>\n",
       "      <th>B</th>\n",
       "      <th>C</th>\n",
       "      <th>D</th>\n",
       "      <th>E</th>\n",
       "    </tr>\n",
       "  </thead>\n",
       "  <tbody>\n",
       "    <tr>\n",
       "      <th>0</th>\n",
       "      <td>0.587324</td>\n",
       "      <td>0.673975</td>\n",
       "      <td>0.340009</td>\n",
       "      <td>0.256320</td>\n",
       "      <td>0.390268</td>\n",
       "    </tr>\n",
       "    <tr>\n",
       "      <th>1</th>\n",
       "      <td>0.510967</td>\n",
       "      <td>0.960523</td>\n",
       "      <td>0.775453</td>\n",
       "      <td>0.494059</td>\n",
       "      <td>0.261004</td>\n",
       "    </tr>\n",
       "    <tr>\n",
       "      <th>2</th>\n",
       "      <td>0.222446</td>\n",
       "      <td>0.590129</td>\n",
       "      <td>0.783768</td>\n",
       "      <td>0.502987</td>\n",
       "      <td>0.985877</td>\n",
       "    </tr>\n",
       "    <tr>\n",
       "      <th>3</th>\n",
       "      <td>0.700091</td>\n",
       "      <td>0.500635</td>\n",
       "      <td>0.266236</td>\n",
       "      <td>0.549050</td>\n",
       "      <td>0.517155</td>\n",
       "    </tr>\n",
       "    <tr>\n",
       "      <th>4</th>\n",
       "      <td>0.130037</td>\n",
       "      <td>0.239698</td>\n",
       "      <td>0.557067</td>\n",
       "      <td>0.766756</td>\n",
       "      <td>0.350882</td>\n",
       "    </tr>\n",
       "  </tbody>\n",
       "</table>\n",
       "</div>"
      ],
      "text/plain": [
       "          A         B         C         D         E\n",
       "0  0.587324  0.673975  0.340009  0.256320  0.390268\n",
       "1  0.510967  0.960523  0.775453  0.494059  0.261004\n",
       "2  0.222446  0.590129  0.783768  0.502987  0.985877\n",
       "3  0.700091  0.500635  0.266236  0.549050  0.517155\n",
       "4  0.130037  0.239698  0.557067  0.766756  0.350882"
      ]
     },
     "execution_count": 8,
     "metadata": {},
     "output_type": "execute_result"
    }
   ],
   "source": [
    "print('Your DataFrame head is given below check the columns to plot using cufflinks')\n",
    "df1.head()"
   ]
  },
  {
   "cell_type": "code",
   "execution_count": 9,
   "metadata": {},
   "outputs": [
    {
     "name": "stdout",
     "output_type": "stream",
     "text": [
      "What kind of plot you need , the complete data plot or columns plot\n",
      "Press 1 for plotting all columns or press 2 for specifying columns to plot1\n"
     ]
    }
   ],
   "source": [
    "print('What kind of plot you need , the complete data plot or columns plot')\n",
    "cat = input('Press 1 for plotting all columns or press 2 for specifying columns to plot')\n",
    "cat = int(cat)"
   ]
  },
  {
   "cell_type": "code",
   "execution_count": 13,
   "metadata": {},
   "outputs": [
    {
     "name": "stdout",
     "output_type": "stream",
     "text": [
      "Select the type of plot you need to plot by writing 1 to 6\n",
      "1.Line plot\n",
      "2.Scatter plot\n",
      "3.Bar plot\n",
      "4.Histogram\n",
      "5.Box plot\n",
      "6.Surface plot\n",
      "4\n"
     ]
    },
    {
     "data": {
      "application/vnd.plotly.v1+json": {
       "config": {
        "linkText": "Export to plot.ly",
        "plotlyServerURL": "https://plot.ly",
        "showLink": true
       },
       "data": [
        {
         "histfunc": "count",
         "histnorm": "",
         "marker": {
          "color": "rgba(255, 153, 51, 1.0)",
          "line": {
           "color": "#4D5663",
           "width": 1.3
          }
         },
         "name": "A",
         "opacity": 0.8,
         "orientation": "v",
         "type": "histogram",
         "x": [
          0.7065195987457116,
          0.294242516329031,
          0.8379063022100862,
          0.9786483262201434,
          0.025271111197520457,
          0.31653823064026443,
          0.26747372844756845,
          0.1334832114766713,
          0.3773152218020117,
          0.08038984178885733,
          0.4624318952307558,
          0.9040927764561446,
          0.17390269591395335,
          0.9625141074605741,
          0.21141804710405177,
          0.9187263505285667,
          0.04628062900508745,
          0.4597251897130985,
          0.600341159797193,
          0.274452550398259,
          0.8907358568673545,
          0.13449650033104033,
          0.07374465204838887,
          0.5315203187171055,
          0.7734378843041508,
          0.8288937588087002,
          0.5051204090919978,
          0.14438416122370457,
          0.8061756578027219,
          0.7167342318824691,
          0.47622871556554613,
          0.5078464225175763,
          0.3027111520160267,
          0.9512448791289364,
          0.4076421430787166,
          0.4089967717636954,
          0.14889791680991193,
          0.45773700182477506,
          0.4159540806053984,
          0.5033334522474615,
          0.5456861138421338,
          0.45985426044040156,
          0.49169652469013436,
          0.17571079041762616,
          0.9250856266173436,
          0.03800765660897021,
          0.3569643151690064,
          0.5850072684104313,
          0.27421123293763316,
          0.6389873314482427,
          0.43367348301644837,
          0.02578965892963636,
          0.245793075938175,
          0.41537904406613235,
          0.4236972343516514,
          0.4906096478632782,
          0.04164154985758417,
          0.4491658927011928,
          0.8843105255221949,
          0.7816189990251188,
          0.3333627023163378,
          0.12064448595086308,
          0.09037280667725123,
          0.35435429437616417,
          0.04013939522958454,
          0.6332319981559147,
          0.39587058862901325,
          0.6956545179673179,
          0.9899813827531411,
          0.4469722319133346,
          0.4836797977303897,
          0.12038550927576364,
          0.08878812003357806,
          0.5171791657600641,
          0.027245155333033177,
          0.43874521385986875,
          0.84541415029621,
          0.15280571004673738,
          0.8644232740515755,
          0.7519726404867878,
          0.9305607809921492,
          0.13556085803776263,
          0.8452222619945092,
          0.32657258552074586,
          0.45938571347746293,
          0.7586064503600748,
          0.7702245935737352,
          0.33180124541782197,
          0.2594339807199395,
          0.8900403267442665,
          0.14086324519118631,
          0.374540571174936,
          0.01903532229610727,
          0.2115667524090622,
          0.5211249335644035,
          0.803084305813595,
          0.7517873455519811,
          0.218118007721666,
          0.1955760504978199,
          0.01414467823841048
         ]
        },
        {
         "histfunc": "count",
         "histnorm": "",
         "marker": {
          "color": "rgba(55, 128, 191, 1.0)",
          "line": {
           "color": "#4D5663",
           "width": 1.3
          }
         },
         "name": "B",
         "opacity": 0.8,
         "orientation": "v",
         "type": "histogram",
         "x": [
          0.7979989334988586,
          0.011060549746093606,
          0.46929002196655945,
          0.09349192823059993,
          0.11786607154975193,
          0.29881804576744064,
          0.3399385736695806,
          0.1897903198542945,
          0.8297535273492734,
          0.1264201376338484,
          0.553607107884679,
          0.7760051539597963,
          0.3722665163062038,
          0.6456252327885498,
          0.7405266805526565,
          0.6160570664883677,
          0.6290808069470197,
          0.2597914113819615,
          0.6298883209271106,
          0.8881731179571865,
          0.23935090228123346,
          0.8433912498596404,
          0.49913198014068383,
          0.17206207840402932,
          0.25644189285575136,
          0.7889152235431084,
          0.9338782978896271,
          0.9287469033489119,
          0.7808688674698884,
          0.5624827134884053,
          0.12672118976665114,
          0.1160141012544944,
          0.7349056940608161,
          0.40007430255684817,
          0.83415396893293,
          0.6553865243022096,
          0.3463313325637857,
          0.3141124406436713,
          0.3504291857168288,
          0.016477549034760286,
          0.01664650982846927,
          0.021440269439962134,
          0.5281787036796614,
          0.9013088429694043,
          0.19338052100366088,
          0.9648612447330166,
          0.15095763882036528,
          0.12714837004335333,
          0.5214173928676747,
          0.6818563870528642,
          0.989776806334254,
          0.9340734837321327,
          0.9320061470073022,
          0.06741707374413353,
          0.7229860421916078,
          0.9271098155586239,
          0.44194899737140014,
          0.037928397616018295,
          0.44733638682247223,
          0.43652770522887574,
          0.9264957241941455,
          0.27765412905472475,
          0.8135738358669101,
          0.6618691544670051,
          0.8979391597326413,
          0.30280258227676793,
          0.4011933613024743,
          0.1800465558909521,
          0.4093460001660677,
          0.9085824634987115,
          0.8118459476832496,
          0.1796251865120312,
          0.14606899878864643,
          0.09469525436155568,
          0.46871880740895555,
          0.6323866608740452,
          0.25236173071651735,
          0.6189208658342942,
          0.83513605619673,
          0.03595770415921118,
          0.34314511379762647,
          0.4918473115942117,
          0.883675733928558,
          0.6398088672126072,
          0.39381284750861933,
          0.18436153653457166,
          0.5431336086619236,
          0.4350421047945322,
          0.7196612306010008,
          0.3099083240886362,
          0.5681530547156505,
          0.36844981775221375,
          0.875582698193961,
          0.35041740047972203,
          0.7457279629517188,
          0.1618046292904387,
          0.6624193131090137,
          0.764498501001378,
          0.44161287037815555,
          0.5539474497329715
         ]
        },
        {
         "histfunc": "count",
         "histnorm": "",
         "marker": {
          "color": "rgba(50, 171, 96, 1.0)",
          "line": {
           "color": "#4D5663",
           "width": 1.3
          }
         },
         "name": "C",
         "opacity": 0.8,
         "orientation": "v",
         "type": "histogram",
         "x": [
          0.6236578328880978,
          0.4186273228308155,
          0.9080514368543168,
          0.6757574354772092,
          0.9503084909288906,
          0.5016916146760874,
          0.5500572870545095,
          0.6025527008400638,
          0.858527152033622,
          0.5644231902539679,
          0.029529224309731816,
          0.47746296087185014,
          0.7606951127868391,
          0.3375828063873856,
          0.5227813860165186,
          0.20648579266909106,
          0.755900604054631,
          0.10023085907275975,
          0.7216016790055664,
          0.17329848010719184,
          0.17960690999456463,
          0.8450348424360089,
          0.9182676813116787,
          0.9569865073957661,
          0.9112759046563617,
          0.9817789729333448,
          0.9889726788343765,
          0.4439169874997475,
          0.34137211390885347,
          0.00406626484778172,
          0.993388138461973,
          0.3447009796368402,
          0.495549937355239,
          0.022312827555985626,
          0.8326588186517327,
          0.03280059543184555,
          0.9275610023671277,
          0.3366801299875345,
          0.6660638102517519,
          0.30735037924429953,
          0.8114234144780058,
          0.7698457120675678,
          0.09359067371020247,
          0.4707402236755116,
          0.5798632327078888,
          0.1961900140328241,
          0.37754788873899736,
          0.31922349013315754,
          0.16254446409960188,
          0.6132189654423108,
          0.8580542802093651,
          0.3378822458420915,
          0.4146644774088005,
          0.7611458331016605,
          0.3770648413834954,
          0.023841786889788108,
          0.2711096775236348,
          0.41825041911956395,
          0.565761798978511,
          0.02429798126030025,
          0.6002447810963707,
          0.5666232448023749,
          0.19055269475538028,
          0.4603657141586257,
          0.08088080406540732,
          0.4849961256854384,
          0.08165963062793602,
          0.5576034558862026,
          0.2136686486971423,
          0.5253967467055227,
          0.10565759604214464,
          0.6157424628478345,
          0.985382000956863,
          0.946566892574495,
          0.5341868829652123,
          0.35970958173254997,
          0.8339854710764381,
          0.9893854350246537,
          0.5279887222261033,
          0.12521094755169804,
          0.1728253853444961,
          0.46719847808561654,
          0.46994047984499776,
          0.07391052526325281,
          0.4836463851950912,
          0.30123422807114475,
          0.2729279728772094,
          0.41109262678250136,
          0.6600136967478659,
          0.07076722165980687,
          0.493358778211372,
          0.6041595791644643,
          0.9427061770545245,
          0.7766689893697643,
          0.6044193140518074,
          0.48728812293426527,
          0.34000298477852564,
          0.7267033414453056,
          0.2049179642210711,
          0.9165676253538861
         ]
        },
        {
         "histfunc": "count",
         "histnorm": "",
         "marker": {
          "color": "rgba(128, 0, 128, 1.0)",
          "line": {
           "color": "#4D5663",
           "width": 1.3
          }
         },
         "name": "D",
         "opacity": 0.8,
         "orientation": "v",
         "type": "histogram",
         "x": [
          0.7021795180951258,
          0.2961197405400927,
          0.8072426382609453,
          0.8593828182297717,
          0.057902086823527155,
          0.45046830442070485,
          0.9414127308479462,
          0.6701748234220942,
          0.5525232810702527,
          0.011728901996518881,
          0.8953711394551768,
          0.043164924983706277,
          0.5294682856950478,
          0.15461959693107774,
          0.45021093223838915,
          0.42861980025495783,
          0.7781751858881941,
          0.0535382999229127,
          0.47227709904630366,
          0.33184360863081686,
          0.1507289972389212,
          0.8828196427998743,
          0.24919181113101763,
          0.5495970593990219,
          0.8911821716687338,
          0.6018019961405878,
          0.8366234216799768,
          0.8320464488113086,
          0.7634181732240384,
          0.13880696666468362,
          0.36581869925089905,
          0.8323406883100519,
          0.840671979610013,
          0.3516328776745322,
          0.6008491988278398,
          0.3070210628506148,
          0.06708718542096193,
          0.38534795262255217,
          0.2724169562095564,
          0.7079047136022889,
          0.8525905732656591,
          0.5649731404993273,
          0.009711132508771314,
          0.24867925671184765,
          0.9388775323690589,
          0.0699366622323584,
          0.27686488450733404,
          0.30678525091797937,
          0.1590466818828129,
          0.6068934404148933,
          0.556847373369802,
          0.8402109369651755,
          0.9600089252294504,
          0.5760686432961937,
          0.9640320134393782,
          0.7619927974417418,
          0.43138961658951225,
          0.9628703600924813,
          0.3513300363422266,
          0.7569712404742913,
          0.8850010224810303,
          0.7055623034768828,
          0.3109900618686118,
          0.8831411969006165,
          0.4597041517180802,
          0.3783422454250963,
          0.40224505519190834,
          0.2507106339281211,
          0.08729680145339169,
          0.5041473596072032,
          0.5679218854974338,
          0.8293994090127874,
          0.14873056209696833,
          0.3190877831794795,
          0.20576580533074396,
          0.8442858122520773,
          0.28829476506524754,
          0.1519640186609127,
          0.9517821383606031,
          0.06171888786762669,
          0.3110153281108746,
          0.11407012287224327,
          0.9168788563306144,
          0.9363623849014368,
          0.2124108126731542,
          0.07182829232799637,
          0.8982977540313124,
          0.324381508263198,
          0.40658499582173924,
          0.37532902424224823,
          0.3500527812609119,
          0.26020975923245204,
          0.5687015879131042,
          0.6767327580367543,
          0.052325065691023576,
          0.6182075394095787,
          0.8661551188204987,
          0.7849153191754711,
          0.093974189831044,
          0.5133254108400497
         ]
        },
        {
         "histfunc": "count",
         "histnorm": "",
         "marker": {
          "color": "rgba(219, 64, 82, 1.0)",
          "line": {
           "color": "#4D5663",
           "width": 1.3
          }
         },
         "name": "E",
         "opacity": 0.8,
         "orientation": "v",
         "type": "histogram",
         "x": [
          0.9271395232112893,
          0.5725635314171891,
          0.6030025097559558,
          0.2910211779213492,
          0.29371248211657175,
          0.02264994544618304,
          0.4012208169505592,
          0.23205343957336244,
          0.9027765788062427,
          0.21476312693706734,
          0.34636774888341426,
          0.08968113037613368,
          0.36069301035313595,
          0.2938396919275643,
          0.3326113945030098,
          0.5973667801145086,
          0.5951675753479959,
          0.03896729286135414,
          0.32386128960944993,
          0.8274724692826977,
          0.43941738154739896,
          0.8887493443671163,
          0.3129861411761755,
          0.9457266818941389,
          0.7135024061242449,
          0.28140550439313017,
          0.4568471997083162,
          0.5958260579194291,
          0.855218495901099,
          0.5153497900222106,
          0.6348533931467415,
          0.5315316172890632,
          0.4002131553183801,
          0.06326591996956521,
          0.8402254679937394,
          0.22741643014610047,
          0.9262238426336241,
          0.997713991292308,
          0.7721855597264088,
          0.6360589584846827,
          0.7711702783939175,
          0.8632530062477991,
          0.2421945697448512,
          0.6094658721129386,
          0.14656603277945834,
          0.8423883422156313,
          0.3963577974834842,
          0.3945709025108226,
          0.8828433657096958,
          0.546690622922819,
          0.5362119537532878,
          0.4359142998683708,
          0.09642023489268825,
          0.0631928205717377,
          0.19918651251372077,
          0.6829083233031702,
          0.4609606112961152,
          0.6715514640237885,
          0.10205608524891896,
          0.12145445820634093,
          0.5455630707080262,
          0.8035449055041217,
          0.021174161013876147,
          0.6682555075498446,
          0.34544173057969807,
          0.14744225157713564,
          0.46449374876863725,
          0.5089636007379622,
          0.8576950927634687,
          0.5597197477535193,
          0.023101682186062344,
          0.7732196806705052,
          0.3671847827847218,
          0.22479290288363263,
          0.9353772425474228,
          0.7477877809128525,
          0.53092870892842,
          0.7986391219148309,
          0.054550531236091215,
          0.28708835798058996,
          0.38247508886330117,
          0.3727289026686912,
          0.00023162809890564517,
          0.29012695289077206,
          0.7895313131068001,
          0.9972274747010261,
          0.8048684837723351,
          0.8352243558484008,
          0.7939434597745818,
          0.6988211992089257,
          0.7104972296405259,
          0.6010513865784757,
          0.1866325042947493,
          0.5001229942797405,
          0.8307343163772724,
          0.15292248089254434,
          0.9882856597168606,
          0.4779191611103337,
          0.19792936224638946,
          0.6517952683766439
         ]
        }
       ],
       "layout": {
        "barmode": "overlay",
        "legend": {
         "bgcolor": "#F5F6F9",
         "font": {
          "color": "#4D5663"
         }
        },
        "paper_bgcolor": "#F5F6F9",
        "plot_bgcolor": "#F5F6F9",
        "template": {
         "data": {
          "bar": [
           {
            "error_x": {
             "color": "#2a3f5f"
            },
            "error_y": {
             "color": "#2a3f5f"
            },
            "marker": {
             "line": {
              "color": "#E5ECF6",
              "width": 0.5
             }
            },
            "type": "bar"
           }
          ],
          "barpolar": [
           {
            "marker": {
             "line": {
              "color": "#E5ECF6",
              "width": 0.5
             }
            },
            "type": "barpolar"
           }
          ],
          "carpet": [
           {
            "aaxis": {
             "endlinecolor": "#2a3f5f",
             "gridcolor": "white",
             "linecolor": "white",
             "minorgridcolor": "white",
             "startlinecolor": "#2a3f5f"
            },
            "baxis": {
             "endlinecolor": "#2a3f5f",
             "gridcolor": "white",
             "linecolor": "white",
             "minorgridcolor": "white",
             "startlinecolor": "#2a3f5f"
            },
            "type": "carpet"
           }
          ],
          "choropleth": [
           {
            "colorbar": {
             "outlinewidth": 0,
             "ticks": ""
            },
            "type": "choropleth"
           }
          ],
          "contour": [
           {
            "colorbar": {
             "outlinewidth": 0,
             "ticks": ""
            },
            "colorscale": [
             [
              0,
              "#0d0887"
             ],
             [
              0.1111111111111111,
              "#46039f"
             ],
             [
              0.2222222222222222,
              "#7201a8"
             ],
             [
              0.3333333333333333,
              "#9c179e"
             ],
             [
              0.4444444444444444,
              "#bd3786"
             ],
             [
              0.5555555555555556,
              "#d8576b"
             ],
             [
              0.6666666666666666,
              "#ed7953"
             ],
             [
              0.7777777777777778,
              "#fb9f3a"
             ],
             [
              0.8888888888888888,
              "#fdca26"
             ],
             [
              1,
              "#f0f921"
             ]
            ],
            "type": "contour"
           }
          ],
          "contourcarpet": [
           {
            "colorbar": {
             "outlinewidth": 0,
             "ticks": ""
            },
            "type": "contourcarpet"
           }
          ],
          "heatmap": [
           {
            "colorbar": {
             "outlinewidth": 0,
             "ticks": ""
            },
            "colorscale": [
             [
              0,
              "#0d0887"
             ],
             [
              0.1111111111111111,
              "#46039f"
             ],
             [
              0.2222222222222222,
              "#7201a8"
             ],
             [
              0.3333333333333333,
              "#9c179e"
             ],
             [
              0.4444444444444444,
              "#bd3786"
             ],
             [
              0.5555555555555556,
              "#d8576b"
             ],
             [
              0.6666666666666666,
              "#ed7953"
             ],
             [
              0.7777777777777778,
              "#fb9f3a"
             ],
             [
              0.8888888888888888,
              "#fdca26"
             ],
             [
              1,
              "#f0f921"
             ]
            ],
            "type": "heatmap"
           }
          ],
          "heatmapgl": [
           {
            "colorbar": {
             "outlinewidth": 0,
             "ticks": ""
            },
            "colorscale": [
             [
              0,
              "#0d0887"
             ],
             [
              0.1111111111111111,
              "#46039f"
             ],
             [
              0.2222222222222222,
              "#7201a8"
             ],
             [
              0.3333333333333333,
              "#9c179e"
             ],
             [
              0.4444444444444444,
              "#bd3786"
             ],
             [
              0.5555555555555556,
              "#d8576b"
             ],
             [
              0.6666666666666666,
              "#ed7953"
             ],
             [
              0.7777777777777778,
              "#fb9f3a"
             ],
             [
              0.8888888888888888,
              "#fdca26"
             ],
             [
              1,
              "#f0f921"
             ]
            ],
            "type": "heatmapgl"
           }
          ],
          "histogram": [
           {
            "marker": {
             "colorbar": {
              "outlinewidth": 0,
              "ticks": ""
             }
            },
            "type": "histogram"
           }
          ],
          "histogram2d": [
           {
            "colorbar": {
             "outlinewidth": 0,
             "ticks": ""
            },
            "colorscale": [
             [
              0,
              "#0d0887"
             ],
             [
              0.1111111111111111,
              "#46039f"
             ],
             [
              0.2222222222222222,
              "#7201a8"
             ],
             [
              0.3333333333333333,
              "#9c179e"
             ],
             [
              0.4444444444444444,
              "#bd3786"
             ],
             [
              0.5555555555555556,
              "#d8576b"
             ],
             [
              0.6666666666666666,
              "#ed7953"
             ],
             [
              0.7777777777777778,
              "#fb9f3a"
             ],
             [
              0.8888888888888888,
              "#fdca26"
             ],
             [
              1,
              "#f0f921"
             ]
            ],
            "type": "histogram2d"
           }
          ],
          "histogram2dcontour": [
           {
            "colorbar": {
             "outlinewidth": 0,
             "ticks": ""
            },
            "colorscale": [
             [
              0,
              "#0d0887"
             ],
             [
              0.1111111111111111,
              "#46039f"
             ],
             [
              0.2222222222222222,
              "#7201a8"
             ],
             [
              0.3333333333333333,
              "#9c179e"
             ],
             [
              0.4444444444444444,
              "#bd3786"
             ],
             [
              0.5555555555555556,
              "#d8576b"
             ],
             [
              0.6666666666666666,
              "#ed7953"
             ],
             [
              0.7777777777777778,
              "#fb9f3a"
             ],
             [
              0.8888888888888888,
              "#fdca26"
             ],
             [
              1,
              "#f0f921"
             ]
            ],
            "type": "histogram2dcontour"
           }
          ],
          "mesh3d": [
           {
            "colorbar": {
             "outlinewidth": 0,
             "ticks": ""
            },
            "type": "mesh3d"
           }
          ],
          "parcoords": [
           {
            "line": {
             "colorbar": {
              "outlinewidth": 0,
              "ticks": ""
             }
            },
            "type": "parcoords"
           }
          ],
          "pie": [
           {
            "automargin": true,
            "type": "pie"
           }
          ],
          "scatter": [
           {
            "marker": {
             "colorbar": {
              "outlinewidth": 0,
              "ticks": ""
             }
            },
            "type": "scatter"
           }
          ],
          "scatter3d": [
           {
            "line": {
             "colorbar": {
              "outlinewidth": 0,
              "ticks": ""
             }
            },
            "marker": {
             "colorbar": {
              "outlinewidth": 0,
              "ticks": ""
             }
            },
            "type": "scatter3d"
           }
          ],
          "scattercarpet": [
           {
            "marker": {
             "colorbar": {
              "outlinewidth": 0,
              "ticks": ""
             }
            },
            "type": "scattercarpet"
           }
          ],
          "scattergeo": [
           {
            "marker": {
             "colorbar": {
              "outlinewidth": 0,
              "ticks": ""
             }
            },
            "type": "scattergeo"
           }
          ],
          "scattergl": [
           {
            "marker": {
             "colorbar": {
              "outlinewidth": 0,
              "ticks": ""
             }
            },
            "type": "scattergl"
           }
          ],
          "scattermapbox": [
           {
            "marker": {
             "colorbar": {
              "outlinewidth": 0,
              "ticks": ""
             }
            },
            "type": "scattermapbox"
           }
          ],
          "scatterpolar": [
           {
            "marker": {
             "colorbar": {
              "outlinewidth": 0,
              "ticks": ""
             }
            },
            "type": "scatterpolar"
           }
          ],
          "scatterpolargl": [
           {
            "marker": {
             "colorbar": {
              "outlinewidth": 0,
              "ticks": ""
             }
            },
            "type": "scatterpolargl"
           }
          ],
          "scatterternary": [
           {
            "marker": {
             "colorbar": {
              "outlinewidth": 0,
              "ticks": ""
             }
            },
            "type": "scatterternary"
           }
          ],
          "surface": [
           {
            "colorbar": {
             "outlinewidth": 0,
             "ticks": ""
            },
            "colorscale": [
             [
              0,
              "#0d0887"
             ],
             [
              0.1111111111111111,
              "#46039f"
             ],
             [
              0.2222222222222222,
              "#7201a8"
             ],
             [
              0.3333333333333333,
              "#9c179e"
             ],
             [
              0.4444444444444444,
              "#bd3786"
             ],
             [
              0.5555555555555556,
              "#d8576b"
             ],
             [
              0.6666666666666666,
              "#ed7953"
             ],
             [
              0.7777777777777778,
              "#fb9f3a"
             ],
             [
              0.8888888888888888,
              "#fdca26"
             ],
             [
              1,
              "#f0f921"
             ]
            ],
            "type": "surface"
           }
          ],
          "table": [
           {
            "cells": {
             "fill": {
              "color": "#EBF0F8"
             },
             "line": {
              "color": "white"
             }
            },
            "header": {
             "fill": {
              "color": "#C8D4E3"
             },
             "line": {
              "color": "white"
             }
            },
            "type": "table"
           }
          ]
         },
         "layout": {
          "annotationdefaults": {
           "arrowcolor": "#2a3f5f",
           "arrowhead": 0,
           "arrowwidth": 1
          },
          "coloraxis": {
           "colorbar": {
            "outlinewidth": 0,
            "ticks": ""
           }
          },
          "colorscale": {
           "diverging": [
            [
             0,
             "#8e0152"
            ],
            [
             0.1,
             "#c51b7d"
            ],
            [
             0.2,
             "#de77ae"
            ],
            [
             0.3,
             "#f1b6da"
            ],
            [
             0.4,
             "#fde0ef"
            ],
            [
             0.5,
             "#f7f7f7"
            ],
            [
             0.6,
             "#e6f5d0"
            ],
            [
             0.7,
             "#b8e186"
            ],
            [
             0.8,
             "#7fbc41"
            ],
            [
             0.9,
             "#4d9221"
            ],
            [
             1,
             "#276419"
            ]
           ],
           "sequential": [
            [
             0,
             "#0d0887"
            ],
            [
             0.1111111111111111,
             "#46039f"
            ],
            [
             0.2222222222222222,
             "#7201a8"
            ],
            [
             0.3333333333333333,
             "#9c179e"
            ],
            [
             0.4444444444444444,
             "#bd3786"
            ],
            [
             0.5555555555555556,
             "#d8576b"
            ],
            [
             0.6666666666666666,
             "#ed7953"
            ],
            [
             0.7777777777777778,
             "#fb9f3a"
            ],
            [
             0.8888888888888888,
             "#fdca26"
            ],
            [
             1,
             "#f0f921"
            ]
           ],
           "sequentialminus": [
            [
             0,
             "#0d0887"
            ],
            [
             0.1111111111111111,
             "#46039f"
            ],
            [
             0.2222222222222222,
             "#7201a8"
            ],
            [
             0.3333333333333333,
             "#9c179e"
            ],
            [
             0.4444444444444444,
             "#bd3786"
            ],
            [
             0.5555555555555556,
             "#d8576b"
            ],
            [
             0.6666666666666666,
             "#ed7953"
            ],
            [
             0.7777777777777778,
             "#fb9f3a"
            ],
            [
             0.8888888888888888,
             "#fdca26"
            ],
            [
             1,
             "#f0f921"
            ]
           ]
          },
          "colorway": [
           "#636efa",
           "#EF553B",
           "#00cc96",
           "#ab63fa",
           "#FFA15A",
           "#19d3f3",
           "#FF6692",
           "#B6E880",
           "#FF97FF",
           "#FECB52"
          ],
          "font": {
           "color": "#2a3f5f"
          },
          "geo": {
           "bgcolor": "white",
           "lakecolor": "white",
           "landcolor": "#E5ECF6",
           "showlakes": true,
           "showland": true,
           "subunitcolor": "white"
          },
          "hoverlabel": {
           "align": "left"
          },
          "hovermode": "closest",
          "mapbox": {
           "style": "light"
          },
          "paper_bgcolor": "white",
          "plot_bgcolor": "#E5ECF6",
          "polar": {
           "angularaxis": {
            "gridcolor": "white",
            "linecolor": "white",
            "ticks": ""
           },
           "bgcolor": "#E5ECF6",
           "radialaxis": {
            "gridcolor": "white",
            "linecolor": "white",
            "ticks": ""
           }
          },
          "scene": {
           "xaxis": {
            "backgroundcolor": "#E5ECF6",
            "gridcolor": "white",
            "gridwidth": 2,
            "linecolor": "white",
            "showbackground": true,
            "ticks": "",
            "zerolinecolor": "white"
           },
           "yaxis": {
            "backgroundcolor": "#E5ECF6",
            "gridcolor": "white",
            "gridwidth": 2,
            "linecolor": "white",
            "showbackground": true,
            "ticks": "",
            "zerolinecolor": "white"
           },
           "zaxis": {
            "backgroundcolor": "#E5ECF6",
            "gridcolor": "white",
            "gridwidth": 2,
            "linecolor": "white",
            "showbackground": true,
            "ticks": "",
            "zerolinecolor": "white"
           }
          },
          "shapedefaults": {
           "line": {
            "color": "#2a3f5f"
           }
          },
          "ternary": {
           "aaxis": {
            "gridcolor": "white",
            "linecolor": "white",
            "ticks": ""
           },
           "baxis": {
            "gridcolor": "white",
            "linecolor": "white",
            "ticks": ""
           },
           "bgcolor": "#E5ECF6",
           "caxis": {
            "gridcolor": "white",
            "linecolor": "white",
            "ticks": ""
           }
          },
          "title": {
           "x": 0.05
          },
          "xaxis": {
           "automargin": true,
           "gridcolor": "white",
           "linecolor": "white",
           "ticks": "",
           "title": {
            "standoff": 15
           },
           "zerolinecolor": "white",
           "zerolinewidth": 2
          },
          "yaxis": {
           "automargin": true,
           "gridcolor": "white",
           "linecolor": "white",
           "ticks": "",
           "title": {
            "standoff": 15
           },
           "zerolinecolor": "white",
           "zerolinewidth": 2
          }
         }
        },
        "title": {
         "font": {
          "color": "#4D5663"
         }
        },
        "xaxis": {
         "gridcolor": "#E1E5ED",
         "showgrid": true,
         "tickfont": {
          "color": "#4D5663"
         },
         "title": {
          "font": {
           "color": "#4D5663"
          },
          "text": ""
         },
         "zerolinecolor": "#E1E5ED"
        },
        "yaxis": {
         "gridcolor": "#E1E5ED",
         "showgrid": true,
         "tickfont": {
          "color": "#4D5663"
         },
         "title": {
          "font": {
           "color": "#4D5663"
          },
          "text": ""
         },
         "zerolinecolor": "#E1E5ED"
        }
       }
      },
      "text/html": [
       "<div>                            <div id=\"594647f5-9c11-4c7c-b78d-5d62337f7f68\" class=\"plotly-graph-div\" style=\"height:525px; width:100%;\"></div>            <script type=\"text/javascript\">                require([\"plotly\"], function(Plotly) {                    window.PLOTLYENV=window.PLOTLYENV || {};\n",
       "                    window.PLOTLYENV.BASE_URL='https://plot.ly';                                    if (document.getElementById(\"594647f5-9c11-4c7c-b78d-5d62337f7f68\")) {                    Plotly.newPlot(                        \"594647f5-9c11-4c7c-b78d-5d62337f7f68\",                        [{\"histfunc\": \"count\", \"histnorm\": \"\", \"marker\": {\"color\": \"rgba(255, 153, 51, 1.0)\", \"line\": {\"color\": \"#4D5663\", \"width\": 1.3}}, \"name\": \"A\", \"opacity\": 0.8, \"orientation\": \"v\", \"type\": \"histogram\", \"x\": [0.7065195987457116, 0.294242516329031, 0.8379063022100862, 0.9786483262201434, 0.025271111197520457, 0.31653823064026443, 0.26747372844756845, 0.1334832114766713, 0.3773152218020117, 0.08038984178885733, 0.4624318952307558, 0.9040927764561446, 0.17390269591395335, 0.9625141074605741, 0.21141804710405177, 0.9187263505285667, 0.04628062900508745, 0.4597251897130985, 0.600341159797193, 0.274452550398259, 0.8907358568673545, 0.13449650033104033, 0.07374465204838887, 0.5315203187171055, 0.7734378843041508, 0.8288937588087002, 0.5051204090919978, 0.14438416122370457, 0.8061756578027219, 0.7167342318824691, 0.47622871556554613, 0.5078464225175763, 0.3027111520160267, 0.9512448791289364, 0.4076421430787166, 0.4089967717636954, 0.14889791680991193, 0.45773700182477506, 0.4159540806053984, 0.5033334522474615, 0.5456861138421338, 0.45985426044040156, 0.49169652469013436, 0.17571079041762616, 0.9250856266173436, 0.03800765660897021, 0.3569643151690064, 0.5850072684104313, 0.27421123293763316, 0.6389873314482427, 0.43367348301644837, 0.02578965892963636, 0.245793075938175, 0.41537904406613235, 0.4236972343516514, 0.4906096478632782, 0.04164154985758417, 0.4491658927011928, 0.8843105255221949, 0.7816189990251188, 0.3333627023163378, 0.12064448595086308, 0.09037280667725123, 0.35435429437616417, 0.04013939522958454, 0.6332319981559147, 0.39587058862901325, 0.6956545179673179, 0.9899813827531411, 0.4469722319133346, 0.4836797977303897, 0.12038550927576364, 0.08878812003357806, 0.5171791657600641, 0.027245155333033177, 0.43874521385986875, 0.84541415029621, 0.15280571004673738, 0.8644232740515755, 0.7519726404867878, 0.9305607809921492, 0.13556085803776263, 0.8452222619945092, 0.32657258552074586, 0.45938571347746293, 0.7586064503600748, 0.7702245935737352, 0.33180124541782197, 0.2594339807199395, 0.8900403267442665, 0.14086324519118631, 0.374540571174936, 0.01903532229610727, 0.2115667524090622, 0.5211249335644035, 0.803084305813595, 0.7517873455519811, 0.218118007721666, 0.1955760504978199, 0.01414467823841048]}, {\"histfunc\": \"count\", \"histnorm\": \"\", \"marker\": {\"color\": \"rgba(55, 128, 191, 1.0)\", \"line\": {\"color\": \"#4D5663\", \"width\": 1.3}}, \"name\": \"B\", \"opacity\": 0.8, \"orientation\": \"v\", \"type\": \"histogram\", \"x\": [0.7979989334988586, 0.011060549746093606, 0.46929002196655945, 0.09349192823059993, 0.11786607154975193, 0.29881804576744064, 0.3399385736695806, 0.1897903198542945, 0.8297535273492734, 0.1264201376338484, 0.553607107884679, 0.7760051539597963, 0.3722665163062038, 0.6456252327885498, 0.7405266805526565, 0.6160570664883677, 0.6290808069470197, 0.2597914113819615, 0.6298883209271106, 0.8881731179571865, 0.23935090228123346, 0.8433912498596404, 0.49913198014068383, 0.17206207840402932, 0.25644189285575136, 0.7889152235431084, 0.9338782978896271, 0.9287469033489119, 0.7808688674698884, 0.5624827134884053, 0.12672118976665114, 0.1160141012544944, 0.7349056940608161, 0.40007430255684817, 0.83415396893293, 0.6553865243022096, 0.3463313325637857, 0.3141124406436713, 0.3504291857168288, 0.016477549034760286, 0.01664650982846927, 0.021440269439962134, 0.5281787036796614, 0.9013088429694043, 0.19338052100366088, 0.9648612447330166, 0.15095763882036528, 0.12714837004335333, 0.5214173928676747, 0.6818563870528642, 0.989776806334254, 0.9340734837321327, 0.9320061470073022, 0.06741707374413353, 0.7229860421916078, 0.9271098155586239, 0.44194899737140014, 0.037928397616018295, 0.44733638682247223, 0.43652770522887574, 0.9264957241941455, 0.27765412905472475, 0.8135738358669101, 0.6618691544670051, 0.8979391597326413, 0.30280258227676793, 0.4011933613024743, 0.1800465558909521, 0.4093460001660677, 0.9085824634987115, 0.8118459476832496, 0.1796251865120312, 0.14606899878864643, 0.09469525436155568, 0.46871880740895555, 0.6323866608740452, 0.25236173071651735, 0.6189208658342942, 0.83513605619673, 0.03595770415921118, 0.34314511379762647, 0.4918473115942117, 0.883675733928558, 0.6398088672126072, 0.39381284750861933, 0.18436153653457166, 0.5431336086619236, 0.4350421047945322, 0.7196612306010008, 0.3099083240886362, 0.5681530547156505, 0.36844981775221375, 0.875582698193961, 0.35041740047972203, 0.7457279629517188, 0.1618046292904387, 0.6624193131090137, 0.764498501001378, 0.44161287037815555, 0.5539474497329715]}, {\"histfunc\": \"count\", \"histnorm\": \"\", \"marker\": {\"color\": \"rgba(50, 171, 96, 1.0)\", \"line\": {\"color\": \"#4D5663\", \"width\": 1.3}}, \"name\": \"C\", \"opacity\": 0.8, \"orientation\": \"v\", \"type\": \"histogram\", \"x\": [0.6236578328880978, 0.4186273228308155, 0.9080514368543168, 0.6757574354772092, 0.9503084909288906, 0.5016916146760874, 0.5500572870545095, 0.6025527008400638, 0.858527152033622, 0.5644231902539679, 0.029529224309731816, 0.47746296087185014, 0.7606951127868391, 0.3375828063873856, 0.5227813860165186, 0.20648579266909106, 0.755900604054631, 0.10023085907275975, 0.7216016790055664, 0.17329848010719184, 0.17960690999456463, 0.8450348424360089, 0.9182676813116787, 0.9569865073957661, 0.9112759046563617, 0.9817789729333448, 0.9889726788343765, 0.4439169874997475, 0.34137211390885347, 0.00406626484778172, 0.993388138461973, 0.3447009796368402, 0.495549937355239, 0.022312827555985626, 0.8326588186517327, 0.03280059543184555, 0.9275610023671277, 0.3366801299875345, 0.6660638102517519, 0.30735037924429953, 0.8114234144780058, 0.7698457120675678, 0.09359067371020247, 0.4707402236755116, 0.5798632327078888, 0.1961900140328241, 0.37754788873899736, 0.31922349013315754, 0.16254446409960188, 0.6132189654423108, 0.8580542802093651, 0.3378822458420915, 0.4146644774088005, 0.7611458331016605, 0.3770648413834954, 0.023841786889788108, 0.2711096775236348, 0.41825041911956395, 0.565761798978511, 0.02429798126030025, 0.6002447810963707, 0.5666232448023749, 0.19055269475538028, 0.4603657141586257, 0.08088080406540732, 0.4849961256854384, 0.08165963062793602, 0.5576034558862026, 0.2136686486971423, 0.5253967467055227, 0.10565759604214464, 0.6157424628478345, 0.985382000956863, 0.946566892574495, 0.5341868829652123, 0.35970958173254997, 0.8339854710764381, 0.9893854350246537, 0.5279887222261033, 0.12521094755169804, 0.1728253853444961, 0.46719847808561654, 0.46994047984499776, 0.07391052526325281, 0.4836463851950912, 0.30123422807114475, 0.2729279728772094, 0.41109262678250136, 0.6600136967478659, 0.07076722165980687, 0.493358778211372, 0.6041595791644643, 0.9427061770545245, 0.7766689893697643, 0.6044193140518074, 0.48728812293426527, 0.34000298477852564, 0.7267033414453056, 0.2049179642210711, 0.9165676253538861]}, {\"histfunc\": \"count\", \"histnorm\": \"\", \"marker\": {\"color\": \"rgba(128, 0, 128, 1.0)\", \"line\": {\"color\": \"#4D5663\", \"width\": 1.3}}, \"name\": \"D\", \"opacity\": 0.8, \"orientation\": \"v\", \"type\": \"histogram\", \"x\": [0.7021795180951258, 0.2961197405400927, 0.8072426382609453, 0.8593828182297717, 0.057902086823527155, 0.45046830442070485, 0.9414127308479462, 0.6701748234220942, 0.5525232810702527, 0.011728901996518881, 0.8953711394551768, 0.043164924983706277, 0.5294682856950478, 0.15461959693107774, 0.45021093223838915, 0.42861980025495783, 0.7781751858881941, 0.0535382999229127, 0.47227709904630366, 0.33184360863081686, 0.1507289972389212, 0.8828196427998743, 0.24919181113101763, 0.5495970593990219, 0.8911821716687338, 0.6018019961405878, 0.8366234216799768, 0.8320464488113086, 0.7634181732240384, 0.13880696666468362, 0.36581869925089905, 0.8323406883100519, 0.840671979610013, 0.3516328776745322, 0.6008491988278398, 0.3070210628506148, 0.06708718542096193, 0.38534795262255217, 0.2724169562095564, 0.7079047136022889, 0.8525905732656591, 0.5649731404993273, 0.009711132508771314, 0.24867925671184765, 0.9388775323690589, 0.0699366622323584, 0.27686488450733404, 0.30678525091797937, 0.1590466818828129, 0.6068934404148933, 0.556847373369802, 0.8402109369651755, 0.9600089252294504, 0.5760686432961937, 0.9640320134393782, 0.7619927974417418, 0.43138961658951225, 0.9628703600924813, 0.3513300363422266, 0.7569712404742913, 0.8850010224810303, 0.7055623034768828, 0.3109900618686118, 0.8831411969006165, 0.4597041517180802, 0.3783422454250963, 0.40224505519190834, 0.2507106339281211, 0.08729680145339169, 0.5041473596072032, 0.5679218854974338, 0.8293994090127874, 0.14873056209696833, 0.3190877831794795, 0.20576580533074396, 0.8442858122520773, 0.28829476506524754, 0.1519640186609127, 0.9517821383606031, 0.06171888786762669, 0.3110153281108746, 0.11407012287224327, 0.9168788563306144, 0.9363623849014368, 0.2124108126731542, 0.07182829232799637, 0.8982977540313124, 0.324381508263198, 0.40658499582173924, 0.37532902424224823, 0.3500527812609119, 0.26020975923245204, 0.5687015879131042, 0.6767327580367543, 0.052325065691023576, 0.6182075394095787, 0.8661551188204987, 0.7849153191754711, 0.093974189831044, 0.5133254108400497]}, {\"histfunc\": \"count\", \"histnorm\": \"\", \"marker\": {\"color\": \"rgba(219, 64, 82, 1.0)\", \"line\": {\"color\": \"#4D5663\", \"width\": 1.3}}, \"name\": \"E\", \"opacity\": 0.8, \"orientation\": \"v\", \"type\": \"histogram\", \"x\": [0.9271395232112893, 0.5725635314171891, 0.6030025097559558, 0.2910211779213492, 0.29371248211657175, 0.02264994544618304, 0.4012208169505592, 0.23205343957336244, 0.9027765788062427, 0.21476312693706734, 0.34636774888341426, 0.08968113037613368, 0.36069301035313595, 0.2938396919275643, 0.3326113945030098, 0.5973667801145086, 0.5951675753479959, 0.03896729286135414, 0.32386128960944993, 0.8274724692826977, 0.43941738154739896, 0.8887493443671163, 0.3129861411761755, 0.9457266818941389, 0.7135024061242449, 0.28140550439313017, 0.4568471997083162, 0.5958260579194291, 0.855218495901099, 0.5153497900222106, 0.6348533931467415, 0.5315316172890632, 0.4002131553183801, 0.06326591996956521, 0.8402254679937394, 0.22741643014610047, 0.9262238426336241, 0.997713991292308, 0.7721855597264088, 0.6360589584846827, 0.7711702783939175, 0.8632530062477991, 0.2421945697448512, 0.6094658721129386, 0.14656603277945834, 0.8423883422156313, 0.3963577974834842, 0.3945709025108226, 0.8828433657096958, 0.546690622922819, 0.5362119537532878, 0.4359142998683708, 0.09642023489268825, 0.0631928205717377, 0.19918651251372077, 0.6829083233031702, 0.4609606112961152, 0.6715514640237885, 0.10205608524891896, 0.12145445820634093, 0.5455630707080262, 0.8035449055041217, 0.021174161013876147, 0.6682555075498446, 0.34544173057969807, 0.14744225157713564, 0.46449374876863725, 0.5089636007379622, 0.8576950927634687, 0.5597197477535193, 0.023101682186062344, 0.7732196806705052, 0.3671847827847218, 0.22479290288363263, 0.9353772425474228, 0.7477877809128525, 0.53092870892842, 0.7986391219148309, 0.054550531236091215, 0.28708835798058996, 0.38247508886330117, 0.3727289026686912, 0.00023162809890564517, 0.29012695289077206, 0.7895313131068001, 0.9972274747010261, 0.8048684837723351, 0.8352243558484008, 0.7939434597745818, 0.6988211992089257, 0.7104972296405259, 0.6010513865784757, 0.1866325042947493, 0.5001229942797405, 0.8307343163772724, 0.15292248089254434, 0.9882856597168606, 0.4779191611103337, 0.19792936224638946, 0.6517952683766439]}],                        {\"barmode\": \"overlay\", \"legend\": {\"bgcolor\": \"#F5F6F9\", \"font\": {\"color\": \"#4D5663\"}}, \"paper_bgcolor\": \"#F5F6F9\", \"plot_bgcolor\": \"#F5F6F9\", \"template\": {\"data\": {\"bar\": [{\"error_x\": {\"color\": \"#2a3f5f\"}, \"error_y\": {\"color\": \"#2a3f5f\"}, \"marker\": {\"line\": {\"color\": \"#E5ECF6\", \"width\": 0.5}}, \"type\": \"bar\"}], \"barpolar\": [{\"marker\": {\"line\": {\"color\": \"#E5ECF6\", \"width\": 0.5}}, \"type\": \"barpolar\"}], \"carpet\": [{\"aaxis\": {\"endlinecolor\": \"#2a3f5f\", \"gridcolor\": \"white\", \"linecolor\": \"white\", \"minorgridcolor\": \"white\", \"startlinecolor\": \"#2a3f5f\"}, \"baxis\": {\"endlinecolor\": \"#2a3f5f\", \"gridcolor\": \"white\", \"linecolor\": \"white\", \"minorgridcolor\": \"white\", \"startlinecolor\": \"#2a3f5f\"}, \"type\": \"carpet\"}], \"choropleth\": [{\"colorbar\": {\"outlinewidth\": 0, \"ticks\": \"\"}, \"type\": \"choropleth\"}], \"contour\": [{\"colorbar\": {\"outlinewidth\": 0, \"ticks\": \"\"}, \"colorscale\": [[0.0, \"#0d0887\"], [0.1111111111111111, \"#46039f\"], [0.2222222222222222, \"#7201a8\"], [0.3333333333333333, \"#9c179e\"], [0.4444444444444444, \"#bd3786\"], [0.5555555555555556, \"#d8576b\"], [0.6666666666666666, \"#ed7953\"], [0.7777777777777778, \"#fb9f3a\"], [0.8888888888888888, \"#fdca26\"], [1.0, \"#f0f921\"]], \"type\": \"contour\"}], \"contourcarpet\": [{\"colorbar\": {\"outlinewidth\": 0, \"ticks\": \"\"}, \"type\": \"contourcarpet\"}], \"heatmap\": [{\"colorbar\": {\"outlinewidth\": 0, \"ticks\": \"\"}, \"colorscale\": [[0.0, \"#0d0887\"], [0.1111111111111111, \"#46039f\"], [0.2222222222222222, \"#7201a8\"], [0.3333333333333333, \"#9c179e\"], [0.4444444444444444, \"#bd3786\"], [0.5555555555555556, \"#d8576b\"], [0.6666666666666666, \"#ed7953\"], [0.7777777777777778, \"#fb9f3a\"], [0.8888888888888888, \"#fdca26\"], [1.0, \"#f0f921\"]], \"type\": \"heatmap\"}], \"heatmapgl\": [{\"colorbar\": {\"outlinewidth\": 0, \"ticks\": \"\"}, \"colorscale\": [[0.0, \"#0d0887\"], [0.1111111111111111, \"#46039f\"], [0.2222222222222222, \"#7201a8\"], [0.3333333333333333, \"#9c179e\"], [0.4444444444444444, \"#bd3786\"], [0.5555555555555556, \"#d8576b\"], [0.6666666666666666, \"#ed7953\"], [0.7777777777777778, \"#fb9f3a\"], [0.8888888888888888, \"#fdca26\"], [1.0, \"#f0f921\"]], \"type\": \"heatmapgl\"}], \"histogram\": [{\"marker\": {\"colorbar\": {\"outlinewidth\": 0, \"ticks\": \"\"}}, \"type\": \"histogram\"}], \"histogram2d\": [{\"colorbar\": {\"outlinewidth\": 0, \"ticks\": \"\"}, \"colorscale\": [[0.0, \"#0d0887\"], [0.1111111111111111, \"#46039f\"], [0.2222222222222222, \"#7201a8\"], [0.3333333333333333, \"#9c179e\"], [0.4444444444444444, \"#bd3786\"], [0.5555555555555556, \"#d8576b\"], [0.6666666666666666, \"#ed7953\"], [0.7777777777777778, \"#fb9f3a\"], [0.8888888888888888, \"#fdca26\"], [1.0, \"#f0f921\"]], \"type\": \"histogram2d\"}], \"histogram2dcontour\": [{\"colorbar\": {\"outlinewidth\": 0, \"ticks\": \"\"}, \"colorscale\": [[0.0, \"#0d0887\"], [0.1111111111111111, \"#46039f\"], [0.2222222222222222, \"#7201a8\"], [0.3333333333333333, \"#9c179e\"], [0.4444444444444444, \"#bd3786\"], [0.5555555555555556, \"#d8576b\"], [0.6666666666666666, \"#ed7953\"], [0.7777777777777778, \"#fb9f3a\"], [0.8888888888888888, \"#fdca26\"], [1.0, \"#f0f921\"]], \"type\": \"histogram2dcontour\"}], \"mesh3d\": [{\"colorbar\": {\"outlinewidth\": 0, \"ticks\": \"\"}, \"type\": \"mesh3d\"}], \"parcoords\": [{\"line\": {\"colorbar\": {\"outlinewidth\": 0, \"ticks\": \"\"}}, \"type\": \"parcoords\"}], \"pie\": [{\"automargin\": true, \"type\": \"pie\"}], \"scatter\": [{\"marker\": {\"colorbar\": {\"outlinewidth\": 0, \"ticks\": \"\"}}, \"type\": \"scatter\"}], \"scatter3d\": [{\"line\": {\"colorbar\": {\"outlinewidth\": 0, \"ticks\": \"\"}}, \"marker\": {\"colorbar\": {\"outlinewidth\": 0, \"ticks\": \"\"}}, \"type\": \"scatter3d\"}], \"scattercarpet\": [{\"marker\": {\"colorbar\": {\"outlinewidth\": 0, \"ticks\": \"\"}}, \"type\": \"scattercarpet\"}], \"scattergeo\": [{\"marker\": {\"colorbar\": {\"outlinewidth\": 0, \"ticks\": \"\"}}, \"type\": \"scattergeo\"}], \"scattergl\": [{\"marker\": {\"colorbar\": {\"outlinewidth\": 0, \"ticks\": \"\"}}, \"type\": \"scattergl\"}], \"scattermapbox\": [{\"marker\": {\"colorbar\": {\"outlinewidth\": 0, \"ticks\": \"\"}}, \"type\": \"scattermapbox\"}], \"scatterpolar\": [{\"marker\": {\"colorbar\": {\"outlinewidth\": 0, \"ticks\": \"\"}}, \"type\": \"scatterpolar\"}], \"scatterpolargl\": [{\"marker\": {\"colorbar\": {\"outlinewidth\": 0, \"ticks\": \"\"}}, \"type\": \"scatterpolargl\"}], \"scatterternary\": [{\"marker\": {\"colorbar\": {\"outlinewidth\": 0, \"ticks\": \"\"}}, \"type\": \"scatterternary\"}], \"surface\": [{\"colorbar\": {\"outlinewidth\": 0, \"ticks\": \"\"}, \"colorscale\": [[0.0, \"#0d0887\"], [0.1111111111111111, \"#46039f\"], [0.2222222222222222, \"#7201a8\"], [0.3333333333333333, \"#9c179e\"], [0.4444444444444444, \"#bd3786\"], [0.5555555555555556, \"#d8576b\"], [0.6666666666666666, \"#ed7953\"], [0.7777777777777778, \"#fb9f3a\"], [0.8888888888888888, \"#fdca26\"], [1.0, \"#f0f921\"]], \"type\": \"surface\"}], \"table\": [{\"cells\": {\"fill\": {\"color\": \"#EBF0F8\"}, \"line\": {\"color\": \"white\"}}, \"header\": {\"fill\": {\"color\": \"#C8D4E3\"}, \"line\": {\"color\": \"white\"}}, \"type\": \"table\"}]}, \"layout\": {\"annotationdefaults\": {\"arrowcolor\": \"#2a3f5f\", \"arrowhead\": 0, \"arrowwidth\": 1}, \"coloraxis\": {\"colorbar\": {\"outlinewidth\": 0, \"ticks\": \"\"}}, \"colorscale\": {\"diverging\": [[0, \"#8e0152\"], [0.1, \"#c51b7d\"], [0.2, \"#de77ae\"], [0.3, \"#f1b6da\"], [0.4, \"#fde0ef\"], [0.5, \"#f7f7f7\"], [0.6, \"#e6f5d0\"], [0.7, \"#b8e186\"], [0.8, \"#7fbc41\"], [0.9, \"#4d9221\"], [1, \"#276419\"]], \"sequential\": [[0.0, \"#0d0887\"], [0.1111111111111111, \"#46039f\"], [0.2222222222222222, \"#7201a8\"], [0.3333333333333333, \"#9c179e\"], [0.4444444444444444, \"#bd3786\"], [0.5555555555555556, \"#d8576b\"], [0.6666666666666666, \"#ed7953\"], [0.7777777777777778, \"#fb9f3a\"], [0.8888888888888888, \"#fdca26\"], [1.0, \"#f0f921\"]], \"sequentialminus\": [[0.0, \"#0d0887\"], [0.1111111111111111, \"#46039f\"], [0.2222222222222222, \"#7201a8\"], [0.3333333333333333, \"#9c179e\"], [0.4444444444444444, \"#bd3786\"], [0.5555555555555556, \"#d8576b\"], [0.6666666666666666, \"#ed7953\"], [0.7777777777777778, \"#fb9f3a\"], [0.8888888888888888, \"#fdca26\"], [1.0, \"#f0f921\"]]}, \"colorway\": [\"#636efa\", \"#EF553B\", \"#00cc96\", \"#ab63fa\", \"#FFA15A\", \"#19d3f3\", \"#FF6692\", \"#B6E880\", \"#FF97FF\", \"#FECB52\"], \"font\": {\"color\": \"#2a3f5f\"}, \"geo\": {\"bgcolor\": \"white\", \"lakecolor\": \"white\", \"landcolor\": \"#E5ECF6\", \"showlakes\": true, \"showland\": true, \"subunitcolor\": \"white\"}, \"hoverlabel\": {\"align\": \"left\"}, \"hovermode\": \"closest\", \"mapbox\": {\"style\": \"light\"}, \"paper_bgcolor\": \"white\", \"plot_bgcolor\": \"#E5ECF6\", \"polar\": {\"angularaxis\": {\"gridcolor\": \"white\", \"linecolor\": \"white\", \"ticks\": \"\"}, \"bgcolor\": \"#E5ECF6\", \"radialaxis\": {\"gridcolor\": \"white\", \"linecolor\": \"white\", \"ticks\": \"\"}}, \"scene\": {\"xaxis\": {\"backgroundcolor\": \"#E5ECF6\", \"gridcolor\": \"white\", \"gridwidth\": 2, \"linecolor\": \"white\", \"showbackground\": true, \"ticks\": \"\", \"zerolinecolor\": \"white\"}, \"yaxis\": {\"backgroundcolor\": \"#E5ECF6\", \"gridcolor\": \"white\", \"gridwidth\": 2, \"linecolor\": \"white\", \"showbackground\": true, \"ticks\": \"\", \"zerolinecolor\": \"white\"}, \"zaxis\": {\"backgroundcolor\": \"#E5ECF6\", \"gridcolor\": \"white\", \"gridwidth\": 2, \"linecolor\": \"white\", \"showbackground\": true, \"ticks\": \"\", \"zerolinecolor\": \"white\"}}, \"shapedefaults\": {\"line\": {\"color\": \"#2a3f5f\"}}, \"ternary\": {\"aaxis\": {\"gridcolor\": \"white\", \"linecolor\": \"white\", \"ticks\": \"\"}, \"baxis\": {\"gridcolor\": \"white\", \"linecolor\": \"white\", \"ticks\": \"\"}, \"bgcolor\": \"#E5ECF6\", \"caxis\": {\"gridcolor\": \"white\", \"linecolor\": \"white\", \"ticks\": \"\"}}, \"title\": {\"x\": 0.05}, \"xaxis\": {\"automargin\": true, \"gridcolor\": \"white\", \"linecolor\": \"white\", \"ticks\": \"\", \"title\": {\"standoff\": 15}, \"zerolinecolor\": \"white\", \"zerolinewidth\": 2}, \"yaxis\": {\"automargin\": true, \"gridcolor\": \"white\", \"linecolor\": \"white\", \"ticks\": \"\", \"title\": {\"standoff\": 15}, \"zerolinecolor\": \"white\", \"zerolinewidth\": 2}}}, \"title\": {\"font\": {\"color\": \"#4D5663\"}}, \"xaxis\": {\"gridcolor\": \"#E1E5ED\", \"showgrid\": true, \"tickfont\": {\"color\": \"#4D5663\"}, \"title\": {\"font\": {\"color\": \"#4D5663\"}, \"text\": \"\"}, \"zerolinecolor\": \"#E1E5ED\"}, \"yaxis\": {\"gridcolor\": \"#E1E5ED\", \"showgrid\": true, \"tickfont\": {\"color\": \"#4D5663\"}, \"title\": {\"font\": {\"color\": \"#4D5663\"}, \"text\": \"\"}, \"zerolinecolor\": \"#E1E5ED\"}},                        {\"showLink\": true, \"linkText\": \"Export to plot.ly\", \"plotlyServerURL\": \"https://plot.ly\", \"responsive\": true}                    ).then(function(){\n",
       "                            \n",
       "var gd = document.getElementById('594647f5-9c11-4c7c-b78d-5d62337f7f68');\n",
       "var x = new MutationObserver(function (mutations, observer) {{\n",
       "        var display = window.getComputedStyle(gd).display;\n",
       "        if (!display || display === 'none') {{\n",
       "            console.log([gd, 'removed!']);\n",
       "            Plotly.purge(gd);\n",
       "            observer.disconnect();\n",
       "        }}\n",
       "}});\n",
       "\n",
       "// Listen for the removal of the full notebook cells\n",
       "var notebookContainer = gd.closest('#notebook-container');\n",
       "if (notebookContainer) {{\n",
       "    x.observe(notebookContainer, {childList: true});\n",
       "}}\n",
       "\n",
       "// Listen for the clearing of the current output cell\n",
       "var outputEl = gd.closest('.output');\n",
       "if (outputEl) {{\n",
       "    x.observe(outputEl, {childList: true});\n",
       "}}\n",
       "\n",
       "                        })                };                });            </script>        </div>"
      ]
     },
     "metadata": {},
     "output_type": "display_data"
    }
   ],
   "source": [
    "main(cat)"
   ]
  },
  {
   "cell_type": "code",
   "execution_count": null,
   "metadata": {},
   "outputs": [],
   "source": []
  }
 ],
 "metadata": {
  "kernelspec": {
   "display_name": "Python 3",
   "language": "python",
   "name": "python3"
  },
  "language_info": {
   "codemirror_mode": {
    "name": "ipython",
    "version": 3
   },
   "file_extension": ".py",
   "mimetype": "text/x-python",
   "name": "python",
   "nbconvert_exporter": "python",
   "pygments_lexer": "ipython3",
   "version": "3.8.3"
  }
 },
 "nbformat": 4,
 "nbformat_minor": 4
}
